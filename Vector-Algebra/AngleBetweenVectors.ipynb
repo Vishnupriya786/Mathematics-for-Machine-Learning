{
  "nbformat": 4,
  "nbformat_minor": 0,
  "metadata": {
    "colab": {
      "name": "AngleBetweenVectors.ipynb",
      "provenance": [],
      "authorship_tag": "ABX9TyOXy4/QEmhbVNyNs832O607",
      "include_colab_link": true
    },
    "kernelspec": {
      "name": "python3",
      "display_name": "Python 3"
    },
    "language_info": {
      "name": "python"
    }
  },
  "cells": [
    {
      "cell_type": "markdown",
      "metadata": {
        "id": "view-in-github",
        "colab_type": "text"
      },
      "source": [
        "<a href=\"https://colab.research.google.com/github/Vishnupriya786/Mathematics-for-Machine-Learning/blob/main/Vector-Algebra/AngleBetweenVectors.ipynb\" target=\"_parent\"><img src=\"https://colab.research.google.com/assets/colab-badge.svg\" alt=\"Open In Colab\"/></a>"
      ]
    },
    {
      "cell_type": "code",
      "execution_count": 16,
      "metadata": {
        "id": "h0NpZoY-PPUq"
      },
      "outputs": [],
      "source": [
        "import numpy as np"
      ]
    },
    {
      "cell_type": "code",
      "source": [
        "firstVector = np.array([1, 1, -1])\n",
        "secondVector = np.array([2, 3, 1])\n",
        "divideFirstVectorByItsMagnitude = firstVector/np.linalg.norm(firstVector)\n",
        "divideSecondVectorByItsMagnitude = secondVector/np.linalg.norm(secondVector)\n",
        "dotProduct = np.dot(divideFirstVectorByItsMagnitude,divideSecondVectorByItsMagnitude)\n",
        "angleBetweenVectors = np.arccos(dotProduct)\n",
        "print(\"RESULT:\",angleBetweenVectors)\n"
      ],
      "metadata": {
        "colab": {
          "base_uri": "https://localhost:8080/"
        },
        "id": "dDzDO8kyRWWs",
        "outputId": "722589cc-ebe7-4414-f6f7-5ede5d00e21c"
      },
      "execution_count": 44,
      "outputs": [
        {
          "output_type": "stream",
          "name": "stdout",
          "text": [
            "RESULT: 0.9056002717820778\n"
          ]
        }
      ]
    }
  ]
}