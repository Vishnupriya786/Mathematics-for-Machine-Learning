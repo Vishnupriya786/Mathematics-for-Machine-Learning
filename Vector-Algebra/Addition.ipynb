{
  "nbformat": 4,
  "nbformat_minor": 0,
  "metadata": {
    "colab": {
      "name": "Addition.ipynb",
      "provenance": [],
      "authorship_tag": "ABX9TyMBqbyyAwjgQSM1JhrVC0Uy",
      "include_colab_link": true
    },
    "kernelspec": {
      "name": "python3",
      "display_name": "Python 3"
    },
    "language_info": {
      "name": "python"
    }
  },
  "cells": [
    {
      "cell_type": "markdown",
      "metadata": {
        "id": "view-in-github",
        "colab_type": "text"
      },
      "source": [
        "<a href=\"https://colab.research.google.com/github/Vishnupriya786/Mathematics-for-Machine-Learning/blob/main/Vector-Algebra/Addition.ipynb\" target=\"_parent\"><img src=\"https://colab.research.google.com/assets/colab-badge.svg\" alt=\"Open In Colab\"/></a>"
      ]
    },
    {
      "cell_type": "code",
      "execution_count": 16,
      "metadata": {
        "id": "h0NpZoY-PPUq"
      },
      "outputs": [],
      "source": [
        "import numpy as np"
      ]
    },
    {
      "cell_type": "code",
      "source": [
        "firstVector = np.array([1,3])\n",
        "secondVector = np.array([1,1])\n",
        "sumOfTwoVectors = np.add(firstVector, secondVector)\n",
        "print(\"RESULT:\",sumOfTwoVectors)"
      ],
      "metadata": {
        "colab": {
          "base_uri": "https://localhost:8080/"
        },
        "id": "dDzDO8kyRWWs",
        "outputId": "41962007-4bd3-4e5b-f366-f8f20cc4153a"
      },
      "execution_count": 10,
      "outputs": [
        {
          "output_type": "stream",
          "name": "stdout",
          "text": [
            "RESULT: [2 4]\n"
          ]
        }
      ]
    }
  ]
}