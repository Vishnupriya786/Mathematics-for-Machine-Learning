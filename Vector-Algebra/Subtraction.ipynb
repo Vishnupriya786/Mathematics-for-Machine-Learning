{
  "nbformat": 4,
  "nbformat_minor": 0,
  "metadata": {
    "colab": {
      "name": "Subtraction.ipynb",
      "provenance": [],
      "authorship_tag": "ABX9TyNBNyZ0g+gf7xvRjBxCnZfN",
      "include_colab_link": true
    },
    "kernelspec": {
      "name": "python3",
      "display_name": "Python 3"
    },
    "language_info": {
      "name": "python"
    }
  },
  "cells": [
    {
      "cell_type": "markdown",
      "metadata": {
        "id": "view-in-github",
        "colab_type": "text"
      },
      "source": [
        "<a href=\"https://colab.research.google.com/github/Vishnupriya786/Mathematics-for-Machine-Learning/blob/main/Vector-Algebra/Subtraction.ipynb\" target=\"_parent\"><img src=\"https://colab.research.google.com/assets/colab-badge.svg\" alt=\"Open In Colab\"/></a>"
      ]
    },
    {
      "cell_type": "code",
      "execution_count": 16,
      "metadata": {
        "id": "h0NpZoY-PPUq"
      },
      "outputs": [],
      "source": [
        "import numpy as np"
      ]
    },
    {
      "cell_type": "code",
      "source": [
        "firstVector = np.array([1,3])\n",
        "secondVector = np.array([1,1])\n",
        "differenceOfTwoVectors = np.subtract(firstVector, secondVector)\n",
        "print(\"RESULT:\",differenceOfTwoVectors)\n"
      ],
      "metadata": {
        "colab": {
          "base_uri": "https://localhost:8080/"
        },
        "id": "dDzDO8kyRWWs",
        "outputId": "b535e216-fbfd-4c63-f8df-61dbe158ba69"
      },
      "execution_count": 40,
      "outputs": [
        {
          "output_type": "stream",
          "name": "stdout",
          "text": [
            "RESULT: [0 2]\n"
          ]
        }
      ]
    }
  ]
}