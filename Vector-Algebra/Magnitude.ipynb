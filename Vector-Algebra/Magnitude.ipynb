{
  "nbformat": 4,
  "nbformat_minor": 0,
  "metadata": {
    "colab": {
      "name": "Magnitude.ipynb",
      "provenance": [],
      "authorship_tag": "ABX9TyOxqT5hbWnF6MiwRNE8A4pq",
      "include_colab_link": true
    },
    "kernelspec": {
      "name": "python3",
      "display_name": "Python 3"
    },
    "language_info": {
      "name": "python"
    }
  },
  "cells": [
    {
      "cell_type": "markdown",
      "metadata": {
        "id": "view-in-github",
        "colab_type": "text"
      },
      "source": [
        "<a href=\"https://colab.research.google.com/github/Vishnupriya786/Mathematics-for-Machine-Learning/blob/main/Vector-Algebra/Magnitude.ipynb\" target=\"_parent\"><img src=\"https://colab.research.google.com/assets/colab-badge.svg\" alt=\"Open In Colab\"/></a>"
      ]
    },
    {
      "cell_type": "code",
      "execution_count": 16,
      "metadata": {
        "id": "h0NpZoY-PPUq"
      },
      "outputs": [],
      "source": [
        "import numpy as np"
      ]
    },
    {
      "cell_type": "code",
      "source": [
        "vector = np.array([1, -1, 2])\n",
        "magnitudeOfVector = np.linalg.norm(vector)\n",
        "print(\"MGNITUDE OF VECTOR:\",magnitudeOfVector)"
      ],
      "metadata": {
        "colab": {
          "base_uri": "https://localhost:8080/"
        },
        "id": "dDzDO8kyRWWs",
        "outputId": "ef358eb4-e9f0-4136-a7f1-0ca60692c477"
      },
      "execution_count": 42,
      "outputs": [
        {
          "output_type": "stream",
          "name": "stdout",
          "text": [
            "MGNITUDE OF VECTOR: 2.449489742783178\n"
          ]
        }
      ]
    }
  ]
}