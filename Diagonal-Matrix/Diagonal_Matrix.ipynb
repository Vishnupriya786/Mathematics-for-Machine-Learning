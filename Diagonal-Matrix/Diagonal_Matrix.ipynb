{
  "nbformat": 4,
  "nbformat_minor": 0,
  "metadata": {
    "colab": {
      "name": "Diagonal-Matrix.ipynb",
      "provenance": [],
      "authorship_tag": "ABX9TyNRVuMeGHUpCXJQVG48zCw6",
      "include_colab_link": true
    },
    "kernelspec": {
      "name": "python3",
      "display_name": "Python 3"
    },
    "language_info": {
      "name": "python"
    }
  },
  "cells": [
    {
      "cell_type": "markdown",
      "metadata": {
        "id": "view-in-github",
        "colab_type": "text"
      },
      "source": [
        "<a href=\"https://colab.research.google.com/github/Vishnupriya786/Mathematics-for-Machine-Learning/blob/main/Diagonal-Matrix/Diagonal_Matrix.ipynb\" target=\"_parent\"><img src=\"https://colab.research.google.com/assets/colab-badge.svg\" alt=\"Open In Colab\"/></a>"
      ]
    },
    {
      "cell_type": "code",
      "execution_count": 32,
      "metadata": {
        "id": "mDJ5QXqYtAAU"
      },
      "outputs": [],
      "source": [
        "import numpy as np"
      ]
    },
    {
      "cell_type": "code",
      "source": [
        "matrix = np.arange(1,17).reshape((4,4))\n",
        "print(matrix)"
      ],
      "metadata": {
        "colab": {
          "base_uri": "https://localhost:8080/"
        },
        "id": "vx4l5IvuPL6v",
        "outputId": "9eb7551c-fe5c-474b-a125-8328861768bd"
      },
      "execution_count": 33,
      "outputs": [
        {
          "output_type": "stream",
          "name": "stdout",
          "text": [
            "[[ 1  2  3  4]\n",
            " [ 5  6  7  8]\n",
            " [ 9 10 11 12]\n",
            " [13 14 15 16]]\n"
          ]
        }
      ]
    },
    {
      "cell_type": "code",
      "source": [
        "diagonalElements = np.diag(matrix)\n",
        "print(diagonalElements)"
      ],
      "metadata": {
        "colab": {
          "base_uri": "https://localhost:8080/"
        },
        "id": "EOARFhx_TKfV",
        "outputId": "3fc9f0ef-a5e4-47fe-defb-a81ce3a104de"
      },
      "execution_count": 35,
      "outputs": [
        {
          "output_type": "stream",
          "name": "stdout",
          "text": [
            "[ 1  6 11 16]\n"
          ]
        }
      ]
    },
    {
      "cell_type": "code",
      "source": [
        "diagonalMatrix = np.diag(diagonalElements)\n",
        "print(\"The off-diagonal elements are zero for diagonal matrix\")\n",
        "print(diagonalMatrix)"
      ],
      "metadata": {
        "colab": {
          "base_uri": "https://localhost:8080/"
        },
        "id": "A1w8fwkuTdqZ",
        "outputId": "ce1b7642-2427-49b0-cdd7-83f7f35d812a"
      },
      "execution_count": 36,
      "outputs": [
        {
          "output_type": "stream",
          "name": "stdout",
          "text": [
            "The off-diagonal elements are zero for diagonal matrix\n",
            "[[ 1  0  0  0]\n",
            " [ 0  6  0  0]\n",
            " [ 0  0 11  0]\n",
            " [ 0  0  0 16]]\n"
          ]
        }
      ]
    }
  ]
}