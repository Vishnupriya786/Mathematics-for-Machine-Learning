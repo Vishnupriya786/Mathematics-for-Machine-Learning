{
  "nbformat": 4,
  "nbformat_minor": 0,
  "metadata": {
    "colab": {
      "name": "Associative-Property",
      "provenance": [],
      "authorship_tag": "ABX9TyOoNNbL+Rs2A0XSarTrJ3o4",
      "include_colab_link": true
    },
    "kernelspec": {
      "name": "python3",
      "display_name": "Python 3"
    },
    "language_info": {
      "name": "python"
    }
  },
  "cells": [
    {
      "cell_type": "markdown",
      "metadata": {
        "id": "view-in-github",
        "colab_type": "text"
      },
      "source": [
        "<a href=\"https://colab.research.google.com/github/Vishnupriya786/Mathematics-for-Machine-Learning/blob/main/Matrix-Algebra/Associative_Property.ipynb\" target=\"_parent\"><img src=\"https://colab.research.google.com/assets/colab-badge.svg\" alt=\"Open In Colab\"/></a>"
      ]
    },
    {
      "cell_type": "code",
      "source": [
        "import numpy as np"
      ],
      "metadata": {
        "id": "DYqeB_0msGK4"
      },
      "execution_count": 7,
      "outputs": []
    },
    {
      "cell_type": "code",
      "source": [
        "firstVector = np.array([[1,-1,3],[2,0,1]])\n",
        "secondVector = np.array([[1,1,0],[2,1,3]])\n",
        "thirdVector = np.array([[1,1,0],[2,1,4]])\n",
        "addingFirstVectorToSecondVector = np.add(firstVector, secondVector)\n",
        "addingSecondVectorToThirdVector = np.add(secondVector, thirdVector)\n",
        "firstVectorAddedToTheResultOfSecondAndThird = firstVector + addingSecondVectorToThirdVector\n",
        "thirdVectorAddedToTheResultOfFirstAndSecond = thirdVector + addingFirstVectorToSecondVector\n",
        "addingFirstSecondAndThirdVector = firstVector + secondVector + thirdVector \n",
        "if ((np.array_equal(firstVectorAddedToTheResultOfSecondAndThird,thirdVectorAddedToTheResultOfFirstAndSecond)) \n",
        "and (np.array_equal(thirdVectorAddedToTheResultOfFirstAndSecond, addingFirstSecondAndThirdVector))):\n",
        "  print(\"associative property is satisfied\")\n",
        "else:\n",
        "  print(\"associative property is not satisfied\")"
      ],
      "metadata": {
        "colab": {
          "base_uri": "https://localhost:8080/"
        },
        "id": "izhUZX3J02Ik",
        "outputId": "f933f2cf-5a06-41c3-bd63-f0c2787c2cd1"
      },
      "execution_count": 32,
      "outputs": [
        {
          "output_type": "stream",
          "name": "stdout",
          "text": [
            "associative property is satisfied\n"
          ]
        }
      ]
    }
  ]
}