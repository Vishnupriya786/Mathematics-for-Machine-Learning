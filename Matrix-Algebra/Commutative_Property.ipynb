{
  "nbformat": 4,
  "nbformat_minor": 0,
  "metadata": {
    "colab": {
      "name": "Commutative-Property",
      "provenance": [],
      "authorship_tag": "ABX9TyMRnINxW6Bfe7mJ6ANTZffr",
      "include_colab_link": true
    },
    "kernelspec": {
      "name": "python3",
      "display_name": "Python 3"
    },
    "language_info": {
      "name": "python"
    }
  },
  "cells": [
    {
      "cell_type": "markdown",
      "metadata": {
        "id": "view-in-github",
        "colab_type": "text"
      },
      "source": [
        "<a href=\"https://colab.research.google.com/github/Vishnupriya786/Mathematics-for-Machine-Learning/blob/main/Matrix-Algebra/Commutative_Property.ipynb\" target=\"_parent\"><img src=\"https://colab.research.google.com/assets/colab-badge.svg\" alt=\"Open In Colab\"/></a>"
      ]
    },
    {
      "cell_type": "code",
      "source": [
        "import numpy as np"
      ],
      "metadata": {
        "id": "DYqeB_0msGK4"
      },
      "execution_count": 7,
      "outputs": []
    },
    {
      "cell_type": "code",
      "execution_count": 21,
      "metadata": {
        "colab": {
          "base_uri": "https://localhost:8080/"
        },
        "id": "VfDlL04Fr3Go",
        "outputId": "4b1ee487-d17b-4057-82a1-df946611856b"
      },
      "outputs": [
        {
          "output_type": "execute_result",
          "data": {
            "text/plain": [
              "False"
            ]
          },
          "metadata": {},
          "execution_count": 21
        }
      ],
      "source": [
        "firstVector = np.array([[1,-1,3],[2,0,1]])\n",
        "secondVector = np.array([[1,1,0],[2,1,3]])\n",
        "subtractingFirstVectorBySecondVector = np.subtract(firstVector, secondVector)\n",
        "subtractingSecondVectorByFirstVector = np.subtract(secondVector, firstVector)\n",
        "np.array_equal(subtractingSecondVectorByFirstVector, subtractingFirstVectorBySecondVector )"
      ]
    },
    {
      "cell_type": "code",
      "source": [
        "firstVector = np.array([[1,-1,3],[2,0,1]])\n",
        "secondVector = np.array([[1,1,0],[2,1,3]])\n",
        "addingFirstVectorBySecondVector = np.add(firstVector, secondVector)\n",
        "addingSecondVectorByFirstVector = np.add(secondVector, firstVector)\n",
        "np.array_equal(addingSecondVectorByFirstVector, addingFirstVectorBySecondVector )"
      ],
      "metadata": {
        "colab": {
          "base_uri": "https://localhost:8080/"
        },
        "id": "izhUZX3J02Ik",
        "outputId": "db95ad28-d52e-4d88-f9e0-326391d9966f"
      },
      "execution_count": 22,
      "outputs": [
        {
          "output_type": "execute_result",
          "data": {
            "text/plain": [
              "True"
            ]
          },
          "metadata": {},
          "execution_count": 22
        }
      ]
    }
  ]
}