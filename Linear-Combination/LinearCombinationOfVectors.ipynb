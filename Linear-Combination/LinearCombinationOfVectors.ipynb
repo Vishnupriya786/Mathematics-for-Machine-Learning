{
  "nbformat": 4,
  "nbformat_minor": 0,
  "metadata": {
    "colab": {
      "name": "LinearCombinationOfVectors.ipynb",
      "provenance": [],
      "authorship_tag": "ABX9TyOlQuqA58Fj0U7gQLZuTC7M",
      "include_colab_link": true
    },
    "kernelspec": {
      "name": "python3",
      "display_name": "Python 3"
    },
    "language_info": {
      "name": "python"
    }
  },
  "cells": [
    {
      "cell_type": "markdown",
      "metadata": {
        "id": "view-in-github",
        "colab_type": "text"
      },
      "source": [
        "<a href=\"https://colab.research.google.com/github/Vishnupriya786/Mathematics-for-Machine-Learning/blob/main/Linear-Combination/LinearCombinationOfVectors.ipynb\" target=\"_parent\"><img src=\"https://colab.research.google.com/assets/colab-badge.svg\" alt=\"Open In Colab\"/></a>"
      ]
    },
    {
      "cell_type": "code",
      "execution_count": 3,
      "metadata": {
        "id": "h0NpZoY-PPUq"
      },
      "outputs": [],
      "source": [
        "import numpy as np"
      ]
    },
    {
      "cell_type": "code",
      "source": [
        "firstVector = np.array([1, 2])\n",
        "secondVector = np.array([1, 1])\n",
        "scalarOfFirstVector = 3\n",
        "scalarOfSecondVector = 2\n",
        "scalarMultipleOfFirstVector = scalarOfFirstVector * firstVector\n",
        "scalarMultipleOfSecondVector = scalarOfSecondVector * secondVector\n",
        "linearCombinationOfTwoVectors = scalarMultipleOfFirstVector + scalarMultipleOfSecondVector\n",
        "print(\"Result\",linearCombinationOfTwoVectors)\n",
        "\n"
      ],
      "metadata": {
        "colab": {
          "base_uri": "https://localhost:8080/"
        },
        "id": "dDzDO8kyRWWs",
        "outputId": "63d865b5-418b-4eee-82e3-4cbbbf87d34c"
      },
      "execution_count": 6,
      "outputs": [
        {
          "output_type": "stream",
          "name": "stdout",
          "text": [
            "Result [5 8]\n"
          ]
        }
      ]
    }
  ]
}