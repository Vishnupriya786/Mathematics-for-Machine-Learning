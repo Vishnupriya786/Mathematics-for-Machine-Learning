{
  "nbformat": 4,
  "nbformat_minor": 0,
  "metadata": {
    "colab": {
      "name": "LinearDependent.ipynb",
      "provenance": [],
      "authorship_tag": "ABX9TyORe0rlQwjrQfBj0Hoxv7lf",
      "include_colab_link": true
    },
    "kernelspec": {
      "name": "python3",
      "display_name": "Python 3"
    },
    "language_info": {
      "name": "python"
    }
  },
  "cells": [
    {
      "cell_type": "markdown",
      "metadata": {
        "id": "view-in-github",
        "colab_type": "text"
      },
      "source": [
        "<a href=\"https://colab.research.google.com/github/Vishnupriya786/Mathematics-for-Machine-Learning/blob/main/Linear-Dependent-Independent/LinearDependent.ipynb\" target=\"_parent\"><img src=\"https://colab.research.google.com/assets/colab-badge.svg\" alt=\"Open In Colab\"/></a>"
      ]
    },
    {
      "cell_type": "code",
      "execution_count": 1,
      "metadata": {
        "id": "mDJ5QXqYtAAU"
      },
      "outputs": [],
      "source": [
        "import numpy as np"
      ]
    },
    {
      "cell_type": "code",
      "source": [
        "vector1 = np.array([2, 1])\n",
        "vector2 = np.array([4, 2])\n",
        "scalar = 2\n",
        "result = scalar*vector1 \n",
        "print(\"Scalar multiple of one vector equals to other vector is LINEAR DEPENDENT\")\n",
        "if(np.all(result == vector2)):\n",
        "  print(\"The given 2 vectors are linearly dependendent\")\n",
        "\n"
      ],
      "metadata": {
        "colab": {
          "base_uri": "https://localhost:8080/"
        },
        "id": "VLPWWv4itEdm",
        "outputId": "891cc608-3079-49bc-d6a6-55fed0b18af1"
      },
      "execution_count": 9,
      "outputs": [
        {
          "output_type": "stream",
          "name": "stdout",
          "text": [
            "Scalar multiple of one vector equals to other vector is LINEAR DEPENDENT\n",
            "The given 2 vectors are linearly dependendent\n"
          ]
        }
      ]
    }
  ]
}