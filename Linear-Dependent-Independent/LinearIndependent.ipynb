{
  "nbformat": 4,
  "nbformat_minor": 0,
  "metadata": {
    "colab": {
      "name": "LinearIndependent.ipynb",
      "provenance": [],
      "authorship_tag": "ABX9TyOI0jPfhwYWaFPol7yO7XvW",
      "include_colab_link": true
    },
    "kernelspec": {
      "name": "python3",
      "display_name": "Python 3"
    },
    "language_info": {
      "name": "python"
    }
  },
  "cells": [
    {
      "cell_type": "markdown",
      "metadata": {
        "id": "view-in-github",
        "colab_type": "text"
      },
      "source": [
        "<a href=\"https://colab.research.google.com/github/Vishnupriya786/Mathematics-for-Machine-Learning/blob/main/Linear-Dependent-Independent/LinearIndependent.ipynb\" target=\"_parent\"><img src=\"https://colab.research.google.com/assets/colab-badge.svg\" alt=\"Open In Colab\"/></a>"
      ]
    },
    {
      "cell_type": "code",
      "execution_count": 1,
      "metadata": {
        "id": "mDJ5QXqYtAAU"
      },
      "outputs": [],
      "source": [
        "import numpy as np"
      ]
    },
    {
      "cell_type": "code",
      "source": [
        "vector1 = np.array([2, 1])\n",
        "vector2 = np.array([5, 2])\n",
        "scalar = 2\n",
        "result = scalar*vector1 \n",
        "print(\"Scalar multiple of one vector not equals to other vector is LINEAR INDEPENDENT\")\n",
        "if(np.all(result == vector2)):\n",
        "  print(\"The given 2 vectors are linearly dependendent\")\n",
        "else:\n",
        "  print(\"The given 2 vectors are linearly independendent\")\n"
      ],
      "metadata": {
        "colab": {
          "base_uri": "https://localhost:8080/"
        },
        "id": "VLPWWv4itEdm",
        "outputId": "c646b114-14ed-4908-a288-0b13f9966cfa"
      },
      "execution_count": 16,
      "outputs": [
        {
          "output_type": "stream",
          "name": "stdout",
          "text": [
            "Scalar multiple of one vector not equals to other vector is LINEAR INDEPENDENT\n",
            "The given 2 vectors are linearly independendent\n"
          ]
        }
      ]
    }
  ]
}