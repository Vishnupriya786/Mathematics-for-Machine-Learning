{
  "nbformat": 4,
  "nbformat_minor": 0,
  "metadata": {
    "colab": {
      "name": "Dimensions.ipynb",
      "provenance": [],
      "authorship_tag": "ABX9TyMt6rJiXkzzsc4HrBYm0cDm",
      "include_colab_link": true
    },
    "kernelspec": {
      "name": "python3",
      "display_name": "Python 3"
    },
    "language_info": {
      "name": "python"
    }
  },
  "cells": [
    {
      "cell_type": "markdown",
      "metadata": {
        "id": "view-in-github",
        "colab_type": "text"
      },
      "source": [
        "<a href=\"https://colab.research.google.com/github/Vishnupriya786/Mathematics-for-Machine-Learning/blob/main/Matrix/Dimensions.ipynb\" target=\"_parent\"><img src=\"https://colab.research.google.com/assets/colab-badge.svg\" alt=\"Open In Colab\"/></a>"
      ]
    },
    {
      "cell_type": "code",
      "execution_count": 1,
      "metadata": {
        "id": "mDJ5QXqYtAAU"
      },
      "outputs": [],
      "source": [
        "import numpy as np"
      ]
    },
    {
      "cell_type": "code",
      "source": [
        "matrix3X1 = np.array([[1],[2],[3]])\n",
        "print(\"matrix 3X1 represents 3 rows and 1 column\")\n",
        "print(matrix3X1)"
      ],
      "metadata": {
        "colab": {
          "base_uri": "https://localhost:8080/"
        },
        "id": "VLPWWv4itEdm",
        "outputId": "7e01165d-5410-4fca-cafc-4aa841d58136"
      },
      "execution_count": 5,
      "outputs": [
        {
          "output_type": "stream",
          "name": "stdout",
          "text": [
            "matrix 3X1 represents 3 rows and 1 column\n",
            "[[1]\n",
            " [2]\n",
            " [3]]\n"
          ]
        }
      ]
    },
    {
      "cell_type": "code",
      "source": [
        "matrix3X3 = np.array([[1,2,3],[2,4,5],[3,4,6]])\n",
        "print(\"matrix 3X3 represents 3 rows and 3 column\")\n",
        "print(matrix3X3)"
      ],
      "metadata": {
        "colab": {
          "base_uri": "https://localhost:8080/"
        },
        "id": "vx4l5IvuPL6v",
        "outputId": "23525b11-9469-4c32-ffcc-2000d8f27af5"
      },
      "execution_count": 10,
      "outputs": [
        {
          "output_type": "stream",
          "name": "stdout",
          "text": [
            "matrix 3X3 represents 3 rows and 3 column\n",
            "[[1 2 3]\n",
            " [2 4 5]\n",
            " [3 4 6]]\n"
          ]
        }
      ]
    }
  ]
}