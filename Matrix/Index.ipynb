{
  "nbformat": 4,
  "nbformat_minor": 0,
  "metadata": {
    "colab": {
      "name": "Index.ipynb",
      "provenance": [],
      "authorship_tag": "ABX9TyPv8lInUrZc7oCAdiTjX/GC",
      "include_colab_link": true
    },
    "kernelspec": {
      "name": "python3",
      "display_name": "Python 3"
    },
    "language_info": {
      "name": "python"
    }
  },
  "cells": [
    {
      "cell_type": "markdown",
      "metadata": {
        "id": "view-in-github",
        "colab_type": "text"
      },
      "source": [
        "<a href=\"https://colab.research.google.com/github/Vishnupriya786/Mathematics-for-Machine-Learning/blob/main/Matrix/Index.ipynb\" target=\"_parent\"><img src=\"https://colab.research.google.com/assets/colab-badge.svg\" alt=\"Open In Colab\"/></a>"
      ]
    },
    {
      "cell_type": "code",
      "execution_count": 1,
      "metadata": {
        "id": "mDJ5QXqYtAAU"
      },
      "outputs": [],
      "source": [
        "import numpy as np"
      ]
    },
    {
      "cell_type": "code",
      "source": [
        "matrix3X3 = np.array([[1,2,3],[2,4,5],[3,4,6]])\n",
        "print(\"Index for row and column range from 0\")\n",
        "print(matrix3X3)\n",
        "print(matrix3X3[1][2])"
      ],
      "metadata": {
        "colab": {
          "base_uri": "https://localhost:8080/"
        },
        "id": "vx4l5IvuPL6v",
        "outputId": "dc0b6242-967b-4cfb-a3ba-8a93650254fc"
      },
      "execution_count": 15,
      "outputs": [
        {
          "output_type": "stream",
          "name": "stdout",
          "text": [
            "Index for row and column range from 0\n",
            "[[1 2 3]\n",
            " [2 4 5]\n",
            " [3 4 6]]\n",
            "5\n"
          ]
        }
      ]
    }
  ]
}