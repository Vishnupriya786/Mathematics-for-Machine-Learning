{
  "nbformat": 4,
  "nbformat_minor": 0,
  "metadata": {
    "colab": {
      "name": "OrthogonalVectors.ipynb",
      "provenance": [],
      "authorship_tag": "ABX9TyN29OVcfTVZCGVYE3MYIo4J",
      "include_colab_link": true
    },
    "kernelspec": {
      "name": "python3",
      "display_name": "Python 3"
    },
    "language_info": {
      "name": "python"
    }
  },
  "cells": [
    {
      "cell_type": "markdown",
      "metadata": {
        "id": "view-in-github",
        "colab_type": "text"
      },
      "source": [
        "<a href=\"https://colab.research.google.com/github/Vishnupriya786/Mathematics-for-Machine-Learning/blob/main/Orthogonal-Vectors/OrthogonalVectors.ipynb\" target=\"_parent\"><img src=\"https://colab.research.google.com/assets/colab-badge.svg\" alt=\"Open In Colab\"/></a>"
      ]
    },
    {
      "cell_type": "code",
      "execution_count": 1,
      "metadata": {
        "id": "mDJ5QXqYtAAU"
      },
      "outputs": [],
      "source": [
        "import numpy as np"
      ]
    },
    {
      "cell_type": "code",
      "source": [
        "vector1 = np.array([2,-4])\n",
        "vector2 = np.array([-16, -8])\n",
        "dotProduct = np.dot(vector1, vector2)\n",
        "if(np.all(dotProduct == 0)):\n",
        "  print(\"Dot product of vectors:\",dotProduct)\n",
        "  print(\"The given vectors are orthogonal\")\n"
      ],
      "metadata": {
        "colab": {
          "base_uri": "https://localhost:8080/"
        },
        "id": "VLPWWv4itEdm",
        "outputId": "8209fde2-761f-4df2-9aec-54a57adaad45"
      },
      "execution_count": 20,
      "outputs": [
        {
          "output_type": "stream",
          "name": "stdout",
          "text": [
            "Dot product of vectors: 0\n",
            "The given vectors are orthogonal\n"
          ]
        }
      ]
    }
  ]
}